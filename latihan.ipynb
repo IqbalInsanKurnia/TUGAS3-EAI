{
 "cells": [
  {
   "cell_type": "code",
   "execution_count": 1,
   "metadata": {},
   "outputs": [],
   "source": [
    "import graphene\n",
    "import json"
   ]
  },
  {
   "cell_type": "code",
   "execution_count": 2,
   "metadata": {},
   "outputs": [],
   "source": [
    "data = [\n",
    "  \t{\"id\":\"1\", \"title\":\"Buku 1\"},\n",
    "  \t{\"id\":\"2\", \"title\":\"Buku 2\"},\n",
    "  \t{\"id\":\"3\", \"title\":\"Buku 3\"},\n",
    " \t{\"id\":\"4\", \"title\":\"Buku 4\"},\n",
    " \t{\"id\":\"5\", \"title\":\"Buku 5\"},\n",
    "  \t{\"id\":\"6\", \"title\":\"Buku 6\"}\n",
    "]"
   ]
  },
  {
   "cell_type": "code",
   "execution_count": 3,
   "metadata": {},
   "outputs": [
    {
     "name": "stdout",
     "output_type": "stream",
     "text": [
      "{\n",
      "   \"books\": [\n",
      "      {\n",
      "         \"id\": \"1\",\n",
      "         \"title\": \"Buku 1\"\n",
      "      },\n",
      "      {\n",
      "         \"id\": \"2\",\n",
      "         \"title\": \"Buku 2\"\n",
      "      },\n",
      "      {\n",
      "         \"id\": \"3\",\n",
      "         \"title\": \"Buku 3\"\n",
      "      },\n",
      "      {\n",
      "         \"id\": \"4\",\n",
      "         \"title\": \"Buku 4\"\n",
      "      },\n",
      "      {\n",
      "         \"id\": \"5\",\n",
      "         \"title\": \"Buku 5\"\n",
      "      },\n",
      "      {\n",
      "         \"id\": \"6\",\n",
      "         \"title\": \"Buku 6\"\n",
      "      }\n",
      "   ],\n",
      "   \"bookById\": {\n",
      "      \"id\": \"1\",\n",
      "      \"title\": \"Buku 1\"\n",
      "   },\n",
      "   \"bookByTitle\": {\n",
      "      \"id\": \"1\",\n",
      "      \"title\": \"Buku 1\"\n",
      "   }\n",
      "}\n"
     ]
    }
   ],
   "source": [
    "class Book(graphene.ObjectType):\n",
    "\tid = graphene.ID()\n",
    "\ttitle = graphene.String()\n",
    "\n",
    "class Query(graphene.ObjectType):\n",
    "\tbook = graphene.Field(Book)\n",
    "\tbooks = graphene.List(Book)\n",
    "\tbook_by_id = graphene.Field(Book, id=graphene.ID())\n",
    "\tbook_by_title = graphene.Field(Book, title=graphene.String())\n",
    "\n",
    "\tdef resolve_book(self, info):\n",
    "\t\treturn Book(id=data[2][\"id\"], title=data[2][\"title\"])\n",
    "\t\n",
    "\tdef resolve_books(self, info):\n",
    "\t\treturn [Book(id=i[\"id\"], title=i[\"title\"]) for i in data]\n",
    "\t\n",
    "\tdef resolve_book_by_id(self, info, id):\n",
    "\t\tfor i in data:\n",
    "\t\t\tif i[\"id\"] == id:\n",
    "\t\t\t\treturn Book(id=i[\"id\"], title=i[\"title\"])\n",
    "\t\treturn None\n",
    "\t\n",
    "\tdef resolve_book_by_title(self, info, title):\n",
    "\t\tfor i in data:\n",
    "\t\t\tif i[\"title\"] == title:\n",
    "\t\t\t\treturn Book(id=i[\"id\"], title=i[\"title\"])\n",
    "\t\treturn None\n",
    "\n",
    "\t\n",
    "schema = graphene.Schema(query=Query)\n",
    "\n",
    "q = '''\n",
    "{\n",
    "\tbooks {\n",
    "\t\tid\n",
    "\t\ttitle\n",
    "\t}\n",
    "\tbookById(id:\"1\"){\n",
    "\t\tid\n",
    "\t\ttitle\n",
    "\t}\n",
    "\tbookByTitle(title:\"Buku 1\"){\n",
    "\t\tid\n",
    "\t\ttitle\n",
    "\t}\n",
    "}\n",
    "'''\n",
    "\n",
    "result = schema.execute(q)\n",
    "output = json.dumps(result.data, indent=3)\n",
    "print(output)"
   ]
  }
 ],
 "metadata": {
  "kernelspec": {
   "display_name": "graphql",
   "language": "python",
   "name": "python3"
  },
  "language_info": {
   "codemirror_mode": {
    "name": "ipython",
    "version": 3
   },
   "file_extension": ".py",
   "mimetype": "text/x-python",
   "name": "python",
   "nbconvert_exporter": "python",
   "pygments_lexer": "ipython3",
   "version": "3.12.3"
  }
 },
 "nbformat": 4,
 "nbformat_minor": 2
}
